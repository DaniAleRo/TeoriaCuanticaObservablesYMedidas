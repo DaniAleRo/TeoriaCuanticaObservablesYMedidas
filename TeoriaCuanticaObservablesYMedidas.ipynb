{
 "cells": [
  {
   "cell_type": "markdown",
   "metadata": {},
   "source": [
    "# Simule el primer sistema cuántico descrito en la sección 4.1."
   ]
  },
  {
   "cell_type": "markdown",
   "metadata": {},
   "source": [
    "#### 1. El sistema debe calcular la probabilidad de encontrarlo en una posición en particular."
   ]
  },
  {
   "cell_type": "code",
   "execution_count": 1,
   "metadata": {},
   "outputs": [
    {
     "name": "stdout",
     "output_type": "stream",
     "text": [
      "0.05263157894736841\n"
     ]
    }
   ],
   "source": [
    "import numpy as np\n",
    "\n",
    "def probabiidad(V,X1):\n",
    "    return np.abs(V[X1])**2 / np.linalg.norm(V)**2\n",
    "\n",
    "vector2 = [-3-1j,-2j,1j,2]\n",
    "print(probabiidad(vector2,2))"
   ]
  },
  {
   "cell_type": "markdown",
   "metadata": {},
   "source": [
    "#### 2. El sistema si se le da otro vector Ket debe buscar la probabilidad de transitar del primer vector al segundo."
   ]
  },
  {
   "cell_type": "code",
   "execution_count": 8,
   "metadata": {},
   "outputs": [
    {
     "name": "stdout",
     "output_type": "stream",
     "text": [
      "74.0\n"
     ]
    }
   ],
   "source": [
    "import numpy as np\n",
    "\n",
    "def probability_Transition(vector1,vector2):\n",
    "    return np.abs(np.vdot(vector2, vector1))**2\n",
    "\n",
    "vector1 = [-3-1j,-2j,1j,2]\n",
    "vector2 = [1-2j, -3j, 4,-5+2j]\n",
    "\n",
    "print(probability_Transition(vector1,vector2))\n"
   ]
  },
  {
   "cell_type": "markdown",
   "metadata": {},
   "source": [
    "# Complete los retos de programación del capítulo 4."
   ]
  },
  {
   "cell_type": "markdown",
   "metadata": {},
   "source": [
    "#### 1. Amplitud de transición. El sistema puede recibir dos vectores y calcular la probabilidad de transitar de el uno al otro después de hacer la observación"
   ]
  },
  {
   "cell_type": "code",
   "execution_count": null,
   "metadata": {},
   "outputs": [],
   "source": [
    "import numpy as np\n",
    "\n",
    "def probability_Transition(vector1,vector2):\n",
    "    return np.abs(np.vdot(vector2, vector1))**2\n",
    "\n",
    "vector1 = [-3-1j,-2j,1j,2]\n",
    "vector2 = [1-2j, -3j, 4,-5+2j]\n",
    "\n",
    "print(probability_Transition(vector1,vector2))"
   ]
  },
  {
   "cell_type": "markdown",
   "metadata": {},
   "source": [
    "#### 2.Ahora con una matriz que describa un observable y un vector ket, el sistema revisa que la matriz sea hermitiana, y si lo es, calcula la media y la varianza del observable en el estado dado."
   ]
  },
  {
   "cell_type": "code",
   "execution_count": 11,
   "metadata": {},
   "outputs": [],
   "source": [
    "def is_hermitian(matrix):\n",
    "    return np.allclose(matrix, matrix.conj().T)\n",
    "\n",
    "def observable(matrix, vector, O):\n",
    "    hermitian_matrix = np.array(matrix)\n",
    "\n",
    "    if is_hermitian(hermitian_matrix):\n",
    "        valor_esperado = np.vdot(vector, O @ vector)\n",
    "        return is_hermitian, hermitian_matrix, valor_esperado, varianza(hermitian_matrix, vector)\n",
    "    else:\n",
    "        return is_hermitian, hermitian_matrix\n",
    "\n",
    "def media(vector,observable):\n",
    "    multiplication = np.dot(observable, vector)\n",
    "    return np.vdot(vector, multiplication)\n",
    "\n",
    "def varianza(O, vector):\n",
    "    O2 = O @ O\n",
    "    valor_es1 = np.vdot(vector, O @ vector)\n",
    "    valor_es2 = np.vdot(vector, O2 @ vector)\n",
    "    return valor_es2 - valor_es1**2\n",
    "\n"
   ]
  },
  {
   "cell_type": "markdown",
   "metadata": {},
   "source": [
    "#### 3. El sistema calcula los valores propios del observable y la probabilidad de que el sistema transite a alguno de los vectores propios después de la observación."
   ]
  },
  {
   "cell_type": "code",
   "execution_count": null,
   "metadata": {},
   "outputs": [],
   "source": [
    "import numpy as np\n",
    "\n",
    "def is_hermitian(matrix):\n",
    "    return np.allclose(matrix, matrix.conj().T)\n",
    "\n",
    "def eigen_probabilities(ket, matrix):\n",
    "    if not is_hermitian(matrix):\n",
    "        raise ValueError(\"La matriz no es hermitiana.\")\n",
    "    \n",
    "    eigenvalues, eigenvectors = np.linalg.eigh(matrix) \n",
    "    probabilities = []\n",
    "    \n",
    "    for i in range(len(eigenvalues)):\n",
    "        eigenvector = eigenvectors[:,i] \n",
    "        prob = np.abs(np.vdot(eigenvector, ket))**2 \n",
    "        probabilities.append((eigenvalues[i], prob))\n",
    "    \n",
    "    return probabilities"
   ]
  },
  {
   "cell_type": "markdown",
   "metadata": {},
   "source": [
    "#### 4. Se considera la dinámica del sistema. Ahora con una serie de matrices Un el sistema calcula el estado final a partir de un estado inicial."
   ]
  },
  {
   "cell_type": "code",
   "execution_count": null,
   "metadata": {},
   "outputs": [],
   "source": [
    "def is_hermitian(matriz_operador):\n",
    "    return np.allclose(matriz_operador, matriz_operador.conj().T)\n",
    "\n",
    "\n",
    "def final_state(estado_inicial_sistema, operadores_evolucion):\n",
    "    estado_sistema_actual = estado_inicial_sistema.astype(np.complex128)\n",
    "    for operador in operadores_evolucion:\n",
    "        estado_sistema_actual = np.dot(operador, estado_sistema_actual)\n",
    "        estado_sistema_actual /= np.linalg.norm(estado_sistema_actual)\n",
    "    return estado_sistema_actual\n",
    "\n"
   ]
  },
  {
   "cell_type": "markdown",
   "metadata": {},
   "source": [
    "# Realice los siguientes problemas e incluyalos como ejemplos"
   ]
  },
  {
   "cell_type": "markdown",
   "metadata": {},
   "source": [
    "## PROBLEMA 4.3.1"
   ]
  },
  {
   "cell_type": "code",
   "execution_count": null,
   "metadata": {},
   "outputs": [],
   "source": [
    "import numpy as np\n",
    "\n",
    "estado_inicializado = np.array([1, 0])\n",
    "\n",
    "operador_spin_x = np.array([[0, 1], [1, 0]])\n",
    "\n",
    "estado_finalizado = np.dot(operador_spin_x, estado_inicializado)\n",
    "\n",
    "probabilidad_arriba = abs(estado_finalizado[0])**2\n",
    "probabilidad_abajo = abs(estado_finalizado[1])**2\n",
    "\n",
    "print(\"Probabilidad de encontrar el spin hacia arriba:\", probabilidad_arriba)\n",
    "print(\"Probabilidad de encontrar el spin hacia abajo:\", probabilidad_abajo)\n"
   ]
  },
  {
   "cell_type": "markdown",
   "metadata": {},
   "source": [
    "## PROBLEMA 4.3.2"
   ]
  },
  {
   "cell_type": "code",
   "execution_count": 12,
   "metadata": {},
   "outputs": [
    {
     "name": "stdout",
     "output_type": "stream",
     "text": [
      "Probabilidad de encontrar el spin hacia arriba: 0\n",
      "Probabilidad de encontrar el spin hacia abajo: 1\n"
     ]
    },
    {
     "data": {
      "image/png": "[encoded data removed]",
      "text/plain": [
       "<Figure size 640x480 with 1 Axes>"
      ]
     },
     "metadata": {},
     "output_type": "display_data"
    }
   ],
   "source": [
    "import numpy as np\n",
    "import matplotlib.pyplot as plt\n",
    "\n",
    "estado_inicializado = np.array([1, 0])\n",
    "\n",
    "operador_spin_y = np.array([[0, 1], [1, 0]])\n",
    "\n",
    "estado_resultante = np.dot(operador_spin_y, estado_inicializado)\n",
    "\n",
    "probabilidad_arriba = abs(estado_resultante[0])**2\n",
    "probabilidad_abajo = abs(estado_resultante[1])**2\n",
    "\n",
    "print(\"Probabilidad de encontrar el spin hacia arriba:\", probabilidad_arriba)\n",
    "print(\"Probabilidad de encontrar el spin hacia abajo:\", probabilidad_abajo)\n",
    "\n",
    "propios_valores, _ = np.linalg.eig(operador_spin_y)\n",
    "\n",
    "plt.bar(np.arange(len(propios_valores)), abs(estado_resultante)**2)\n",
    "plt.xticks(np.arange(len(propios_valores)), propios_valores)\n",
    "plt.xlabel('Valores propios')\n",
    "plt.ylabel('Probabilidad')\n",
    "plt.title('Distribución de probabilidad según valores propios')\n",
    "plt.show()\n"
   ]
  },
  {
   "cell_type": "markdown",
   "metadata": {},
   "source": [
    "## PROBLEMA 4.4.1"
   ]
  },
  {
   "cell_type": "code",
   "execution_count": 13,
   "metadata": {},
   "outputs": [
    {
     "name": "stdout",
     "output_type": "stream",
     "text": [
      "Matriz A es unitaria\n",
      "Matriz B es unitaria\n",
      "El producto de A y B es unitario\n"
     ]
    }
   ],
   "source": [
    "import numpy as np\n",
    "\n",
    "matriz_A = np.array([[0, 1], [1, 0]])\n",
    "matriz_B = np.array([[np.sqrt(2)/2, np.sqrt(2)/2], [np.sqrt(2)/2, -np.sqrt(2)/2]])\n",
    "\n",
    "unitaria_A = \"es\" if np.allclose(np.dot(matriz_A.conj().T, matriz_A), np.eye(2)) else \"no es\"\n",
    "\n",
    "unitaria_B = \"es\" if np.allclose(np.dot(matriz_B.conj().T, matriz_B), np.eye(2)) else \"no es\"\n",
    "\n",
    "producto_AB = np.dot(matriz_A, matriz_B)\n",
    "\n",
    "producto_unitario = \"es\" if np.allclose(np.dot(producto_AB.conj().T, producto_AB), np.eye(2)) else \"no es\"\n",
    "\n",
    "# Resultados\n",
    "print(\"Matriz A\", unitaria_A, \"unitaria\")\n",
    "print(\"Matriz B\", unitaria_B, \"unitaria\")\n",
    "print(\"El producto de A y B\", producto_unitario, \"unitario\")\n"
   ]
  },
  {
   "cell_type": "markdown",
   "metadata": {},
   "source": [
    "## PROBLEMA 4.4.2"
   ]
  },
  {
   "cell_type": "code",
   "execution_count": 14,
   "metadata": {},
   "outputs": [
    {
     "name": "stdout",
     "output_type": "stream",
     "text": [
      "El estado del sistema después de 3 iteraciones es: [ 0.        +0.j         -0.70710678+0.70710678j  0.        +0.j\n",
      "  0.        +0.j        ]\n",
      "Probabilidad de encontrar la partícula en la posición 3: 0.0\n"
     ]
    }
   ],
   "source": [
    "import numpy as np\n",
    "\n",
    "mapa_cuantico = np.array([\n",
    "    [0, 1/np.sqrt(2), 1/np.sqrt(2), 0],\n",
    "    [1j/np.sqrt(2), 0, 0, 1/np.sqrt(2)],\n",
    "    [1/np.sqrt(2), 0, 0, 1j/np.sqrt(2)],\n",
    "    [0, 1/np.sqrt(2), -1/np.sqrt(2), 0]\n",
    "])\n",
    "\n",
    "estado_base = np.array([1, 0, 0, 0])\n",
    "estado_modificado = np.linalg.matrix_power(mapa_cuantico, 3) @ estado_base\n",
    "probabilidad_posicion_3 = np.abs(estado_modificado[2])**2\n",
    "\n",
    "print(\"El estado del sistema después de 3 iteraciones es:\", estado_modificado)\n",
    "print(\"Probabilidad de encontrar la partícula en la posición 3:\", probabilidad_posicion_3)\n"
   ]
  },
  {
   "cell_type": "markdown",
   "metadata": {},
   "source": [
    "# EJERCICIOS A DISCUTIR"
   ]
  },
  {
   "cell_type": "markdown",
   "metadata": {},
   "source": [
    "## PROBLEMA 4.5.2"
   ]
  },
  {
   "cell_type": "markdown",
   "metadata": {},
   "source": [
    "#### Dado que los estados son resultado del producto tensorial de estados anteriores, se podria escribir como la multiplicatoria tensorial desde el primer estado hasta el estado n. \n",
    "## $$ |\\Psi\\rangle = |\\Psi_1\\rangle \\otimes |\\Psi_2\\rangle \\otimes \\cdots \\otimes |\\Psi_n\\rangle $$\n"
   ]
  },
  {
   "cell_type": "markdown",
   "metadata": {},
   "source": [
    "## PROBLEMA 4.5.3"
   ]
  },
  {
   "cell_type": "markdown",
   "metadata": {},
   "source": [
    "\n",
    "##### Sabiendo que ∣ϕ⟩\n",
    "$|\\phi\\rangle = |x_0\\rangle \\otimes |y_1\\rangle + |x_1\\rangle \\otimes |y_1\\rangle$\n",
    "\n",
    "##### Expresamos como producto tensorial de dos estados.\n",
    "$ |\\alpha\\rangle \\otimes |\\beta\\rangle = (a|x_0\\rangle + b|x_1\\rangle) \\otimes (c|y_0\\rangle + d|y_1\\rangle) $\n",
    "##### Expandemos el producto tensorial\n",
    "$ |\\alpha\\rangle \\otimes |\\beta\\rangle = ac|x_0\\rangle \\otimes |y_0\\rangle + ad|x_0\\rangle \\otimes |y_1\\rangle + bc|x_1\\rangle \\otimes |y_0\\rangle + bd|x_1\\rangle \\otimes |y_1\\rangle $\n",
    "\n",
    "##### El estado ∣ϕ⟩  no es separable, dadno que no hay coefientes a, b, c y d los cuales hagan que las dos expresiones sean iguales."
   ]
  },
  {
   "cell_type": "markdown",
   "metadata": {},
   "source": []
  }
 ],
 "metadata": {
  "kernelspec": {
   "display_name": "Python 3",
   "language": "python",
   "name": "python3"
  },
  "language_info": {
   "codemirror_mode": {
    "name": "ipython",
    "version": 3
   },
   "file_extension": ".py",
   "mimetype": "text/x-python",
   "name": "python",
   "nbconvert_exporter": "python",
   "pygments_lexer": "ipython3",
   "version": "3.12.5"
  }
 },
 "nbformat": 4,
 "nbformat_minor": 2
}
